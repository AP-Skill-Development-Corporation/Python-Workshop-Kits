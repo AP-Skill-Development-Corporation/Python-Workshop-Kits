{
 "cells": [
  {
   "cell_type": "code",
   "execution_count": 3,
   "metadata": {},
   "outputs": [
    {
     "name": "stdout",
     "output_type": "stream",
     "text": [
      "0\n",
      "6\n",
      "6\n"
     ]
    }
   ],
   "source": [
    "#Bitwise Operator(&,|,^,<<,>>)  #8421\n",
    "a=4   #0100\n",
    "b=2   #0010\n",
    "print(a&b)   #0000    0\n",
    "print(a|b)   #0110    6  \n",
    "print(a^b)   #0110    6"
   ]
  },
  {
   "cell_type": "code",
   "execution_count": 4,
   "metadata": {},
   "outputs": [
    {
     "data": {
      "text/plain": [
       "20"
      ]
     },
     "execution_count": 4,
     "metadata": {},
     "output_type": "execute_result"
    }
   ],
   "source": [
    "a=10    #0000 1010  -->left shift\n",
    "a<<1    #0001 0100  #20"
   ]
  },
  {
   "cell_type": "code",
   "execution_count": 5,
   "metadata": {},
   "outputs": [
    {
     "data": {
      "text/plain": [
       "5"
      ]
     },
     "execution_count": 5,
     "metadata": {},
     "output_type": "execute_result"
    }
   ],
   "source": [
    "a>>1   # 0000 0101 -->right shift  #5"
   ]
  },
  {
   "cell_type": "markdown",
   "metadata": {},
   "source": [
    "### Conditional Statements:\n",
    "- To execute Specfic block or code if the given condition is true or false.\n",
    "    - If statement\n",
    "        - To check single condition\n",
    "    - if else statement\n",
    "        - to check two conditions\n",
    "    - elseif statement or elif statement\n",
    "        - To check two or more conditions\n",
    "    - Nesed if Statement\n",
    "        - if block inside if block"
   ]
  },
  {
   "cell_type": "code",
   "execution_count": null,
   "metadata": {},
   "outputs": [],
   "source": [
    "# if statement syntax:\n",
    "if condition:\n",
    "    statement  \n",
    "\n",
    "- indendation: fourspaces or 1tab space"
   ]
  },
  {
   "cell_type": "code",
   "execution_count": 9,
   "metadata": {},
   "outputs": [
    {
     "name": "stdout",
     "output_type": "stream",
     "text": [
      "enter number9\n",
      "9 is a positive number\n"
     ]
    }
   ],
   "source": [
    "#To check the given num is positive number\n",
    "n=int(input(\"enter number\")) #5\n",
    "if n>=1:  #5>=1(T)\n",
    "    print(n,\"is a positive number\")"
   ]
  },
  {
   "cell_type": "code",
   "execution_count": null,
   "metadata": {},
   "outputs": [],
   "source": [
    "#if else syntax:\n",
    "if condition:\n",
    "    statement\n",
    "else:\n",
    "    statements"
   ]
  },
  {
   "cell_type": "code",
   "execution_count": 1,
   "metadata": {},
   "outputs": [
    {
     "name": "stdout",
     "output_type": "stream",
     "text": [
      "enter your age20\n",
      "ur eligible\n"
     ]
    }
   ],
   "source": [
    "#vote eligibility\n",
    "age=int(input(\"enter your age\"))  #20   #15\n",
    "if age>=18:  #T   F\n",
    "    print(\"ur eligible\")\n",
    "else:\n",
    "    print(\"not eligible\")"
   ]
  },
  {
   "cell_type": "code",
   "execution_count": 1,
   "metadata": {},
   "outputs": [
    {
     "name": "stdout",
     "output_type": "stream",
     "text": [
      "5\n",
      "5 is odd num\n"
     ]
    }
   ],
   "source": [
    "#To check the num is even or odd\n",
    "n=int(input())  #4  #5\n",
    "if n%2==0:\n",
    "    print(n,\"is even num\")\n",
    "else:\n",
    "    print(n,\"is odd num\")"
   ]
  },
  {
   "cell_type": "code",
   "execution_count": 3,
   "metadata": {},
   "outputs": [
    {
     "name": "stdout",
     "output_type": "stream",
     "text": [
      "enter a year1998\n",
      "1998  year is not a leap year\n"
     ]
    }
   ],
   "source": [
    "#Leap year\n",
    "year=int(input(\"enter a year\"))\n",
    "if ((year%4==0 and year%100!=0) or(year%400==0)):\n",
    "    print(year,\"is a leap year\")\n",
    "else:\n",
    "    print(year,\" year is not a leap year\")"
   ]
  },
  {
   "cell_type": "code",
   "execution_count": 6,
   "metadata": {},
   "outputs": [
    {
     "name": "stdout",
     "output_type": "stream",
     "text": [
      "enter number25\n",
      "25 is not divisible by 3 and 5\n"
     ]
    }
   ],
   "source": [
    "#Divisible numbers\n",
    "#i/p:30 \n",
    "#o/p:given num is divisible by 3 and 5\n",
    "n=int(input(\"enter number\"))\n",
    "if(n%3==0 and n%5==0):\n",
    "    print(n,\"is divisible by 3 and 5\")\n",
    "else:\n",
    "    print(n,\"is not divisible by 3 and 5\")"
   ]
  },
  {
   "cell_type": "code",
   "execution_count": 8,
   "metadata": {},
   "outputs": [
    {
     "name": "stdout",
     "output_type": "stream",
     "text": [
      "10\n",
      "1\n",
      "10\n",
      "Given num exists in given range\n"
     ]
    }
   ],
   "source": [
    "#Check the if a number exists in a given range\n",
    "#i/p: n=120   lb=50    up=150\n",
    "n=int(input())\n",
    "lb=int(input())\n",
    "ub=int(input())\n",
    "if n>=lb and n<=ub:\n",
    "    print(\"Given num exists in given range\")\n",
    "else:\n",
    "    print(\"Not exists in given range\")"
   ]
  },
  {
   "cell_type": "code",
   "execution_count": null,
   "metadata": {},
   "outputs": [],
   "source": [
    "#Chocolates and friends  --->Task-1\n",
    "#i/p:chocolates=10    i/p:friends=5      chocolates=4    friends=3\n",
    "#o/p:equally distributed                       not equally distributed"
   ]
  },
  {
   "cell_type": "code",
   "execution_count": null,
   "metadata": {},
   "outputs": [],
   "source": [
    "#Elif Statement Syntax:\n",
    "if condition:\n",
    "    statement\n",
    "elif condition:\n",
    "    statement\n",
    "elif condition:\n",
    "    statement\n",
    "   .\n",
    "   .\n",
    "   .\n",
    "else:\n",
    "    statement"
   ]
  },
  {
   "cell_type": "code",
   "execution_count": 11,
   "metadata": {},
   "outputs": [
    {
     "name": "stdout",
     "output_type": "stream",
     "text": [
      "123445\n",
      "877654\n",
      "876544\n",
      "877654 is the biggest num\n"
     ]
    }
   ],
   "source": [
    "#Biggest number\n",
    "#i/p:3 5 4\n",
    "#o/p:5is the biggest number\n",
    "a=int(input())\n",
    "b=int(input())\n",
    "c=int(input())\n",
    "if a>b  and a>c:\n",
    "    print(a,\"is the biggest num\")\n",
    "elif b>c:\n",
    "    print(b,\"is the biggest num\")\n",
    "else:\n",
    "    print(c,\"is the biggest num\")"
   ]
  },
  {
   "cell_type": "code",
   "execution_count": null,
   "metadata": {},
   "outputs": [],
   "source": [
    "#Task-2\n",
    "#Calculate the nuber if nano seconds in a given year(Consider leapyear logic)"
   ]
  }
 ],
 "metadata": {
  "kernelspec": {
   "display_name": "Python 3",
   "language": "python",
   "name": "python3"
  },
  "language_info": {
   "codemirror_mode": {
    "name": "ipython",
    "version": 3
   },
   "file_extension": ".py",
   "mimetype": "text/x-python",
   "name": "python",
   "nbconvert_exporter": "python",
   "pygments_lexer": "ipython3",
   "version": "3.8.3"
  }
 },
 "nbformat": 4,
 "nbformat_minor": 4
}
