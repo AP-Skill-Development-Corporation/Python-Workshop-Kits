{
 "cells": [
  {
   "cell_type": "code",
   "execution_count": 2,
   "metadata": {},
   "outputs": [
    {
     "name": "stdout",
     "output_type": "stream",
     "text": [
      "enter the chocolates4\n",
      "enter the friends5\n",
      "not equally distributed\n"
     ]
    }
   ],
   "source": [
    "#Chocolates and friends \n",
    "ch=int(input(\"enter the chocolates\"))\n",
    "f=int(input(\"enter the friends\"))\n",
    "if ch%f==0:\n",
    "    print(\"Equally distributed\")\n",
    "else:\n",
    "    print(\"not equally distributed\")"
   ]
  },
  {
   "cell_type": "code",
   "execution_count": 4,
   "metadata": {},
   "outputs": [
    {
     "name": "stdout",
     "output_type": "stream",
     "text": [
      "1998\n",
      "31536000000000000\n"
     ]
    }
   ],
   "source": [
    "year=int(input())\n",
    "if year%400==0 or (year%100!=0 and year%4==0):\n",
    "    print(366*24*60*60*(10**9))\n",
    "else:\n",
    "    print(365*24*60*60*(10**9))"
   ]
  },
  {
   "cell_type": "code",
   "execution_count": 2,
   "metadata": {},
   "outputs": [
    {
     "name": "stdout",
     "output_type": "stream",
     "text": [
      "enter stringpython\n",
      "enter str567\n",
      "not equal\n"
     ]
    }
   ],
   "source": [
    "s1=input(\"enter string\")\n",
    "s2=int(input(\"enter str\"))\n",
    "c=str(s2)\n",
    "if c==s1:\n",
    "    print(\"equal\")\n",
    "else:\n",
    "    print(\"not equal\")"
   ]
  },
  {
   "cell_type": "code",
   "execution_count": 4,
   "metadata": {},
   "outputs": [
    {
     "name": "stdout",
     "output_type": "stream",
     "text": [
      "6\n",
      "4\n",
      "1.add 2.sub 3.mul 4.div 5.floordiv 6.mod 7.pow\n",
      "enter your choice1\n",
      "Addition is 10\n"
     ]
    }
   ],
   "source": [
    "#Arthematic operations\n",
    "#i/p:4   6     choice=2     o/p:10\n",
    "a=int(input())\n",
    "b=int(input())\n",
    "print(\"1.add 2.sub 3.mul 4.div 5.floordiv 6.mod 7.pow\")\n",
    "choice=int(input(\"enter your choice\"))\n",
    "if(choice==1):\n",
    "    print(\"Addition is\",a+b)\n",
    "elif(choice==2):\n",
    "    print(\"Sub is\",a-b)\n",
    "elif(choice==3):\n",
    "    print(\"mul is\",a*b)\n",
    "elif(choice==4):\n",
    "    print(\"div is\",a/b)\n",
    "elif(choice==5):\n",
    "    print(\"fllor div is\",a//b)\n",
    "elif(choice==6):\n",
    "    print(\"mod is\",a%b)\n",
    "elif(choice==7):\n",
    "    print(\"pow is\",a**b)\n",
    "else:\n",
    "    print(\"Invalid choice\")"
   ]
  },
  {
   "cell_type": "code",
   "execution_count": 10,
   "metadata": {},
   "outputs": [
    {
     "name": "stdout",
     "output_type": "stream",
     "text": [
      "@&^@!(&\n",
      "@&^@!(& is Special Char\n"
     ]
    }
   ],
   "source": [
    "#i/p:a            5       @ \n",
    "#o/p:Alphabet   digit    special character\n",
    "ch=input()\n",
    "if(ch>='a' and ch<='z') or (ch>='A' and ch<='Z'):\n",
    "    print(ch,\"is Alphabet\")\n",
    "elif(ch>='0' and ch<='9'):\n",
    "    print(ch,\"is digit\")\n",
    "else:\n",
    "    print(ch,\"is Special Char\")"
   ]
  },
  {
   "cell_type": "code",
   "execution_count": 14,
   "metadata": {},
   "outputs": [
    {
     "name": "stdout",
     "output_type": "stream",
     "text": [
      "enter marks130\n",
      "Invalid marks\n"
     ]
    }
   ],
   "source": [
    "#i/p:marks 90-100-->98   90-80     80-70     70-60      60-50    50below\n",
    "#o/p:      A+grade       Agrade    Bgrade     c grade   dgrade   fail\n",
    "marks=int(input(\"enter marks\"))\n",
    "if(marks>=90 and marks<=100):\n",
    "    print(\"A+ Grade\")\n",
    "elif(marks>=80 and marks<=90):\n",
    "    print(\"A Grade\")\n",
    "elif(marks>=70 and marks<=80):\n",
    "    print(\"B Grade\")\n",
    "elif(marks>=60 and marks<=70):\n",
    "    print(\"C Grade\")\n",
    "elif(marks>=50 and marks<=60):\n",
    "    print(\"D Grade\")\n",
    "elif(marks<50):\n",
    "    print(\"Fail\")\n",
    "else:\n",
    "    print(\"Invalid marks\")"
   ]
  },
  {
   "cell_type": "code",
   "execution_count": null,
   "metadata": {},
   "outputs": [],
   "source": [
    "#Nested if Syntax:\n",
    "if(condition):\n",
    "    statement\n",
    "    if(condition):\n",
    "        statement\n",
    "    else:\n",
    "        statement\n",
    "else:\n",
    "    statement"
   ]
  },
  {
   "cell_type": "code",
   "execution_count": 17,
   "metadata": {},
   "outputs": [
    {
     "name": "stdout",
     "output_type": "stream",
     "text": [
      "3\n",
      "Odd\n"
     ]
    }
   ],
   "source": [
    "#i/p: num   even  1)num<10-->4**2      2)even num>10  n**3\n",
    "n=int(input())  #6\n",
    "if n%2==0:\n",
    "    if n<10:\n",
    "        print(n**2)\n",
    "    else:\n",
    "        print(n**3)\n",
    "else:\n",
    "    print(\"Odd\")"
   ]
  },
  {
   "cell_type": "code",
   "execution_count": 20,
   "metadata": {},
   "outputs": [
    {
     "name": "stdout",
     "output_type": "stream",
     "text": [
      "enter your username12\n",
      "Invalid Credits\n"
     ]
    }
   ],
   "source": [
    "#i/p:username-100 to 200\n",
    "#i/p:password-45678\n",
    "#i/p:    125       pswrd= 45678         130     pswrd:12235         220\n",
    "#o/p:      Succesfully entered         Invalid password          Invalid Credits\n",
    "un=int(input(\"enter your username\"))\n",
    "if(un>=100 and un<=200):\n",
    "    pw=int(input(\"enter your password\"))\n",
    "    if(pw==45678):\n",
    "        print(\"Successfully entered\")\n",
    "    else:\n",
    "        print(\"Invalid Password\")\n",
    "else:\n",
    "    print(\"Invalid Credits\")"
   ]
  },
  {
   "cell_type": "code",
   "execution_count": 3,
   "metadata": {},
   "outputs": [
    {
     "name": "stdout",
     "output_type": "stream",
     "text": [
      "180\n",
      "300\n",
      "300\n",
      "Accepted\n"
     ]
    }
   ],
   "source": [
    "l=int(input())\n",
    "h=int(input())\n",
    "w=int(input())\n",
    "if(w<=l and h<=l):\n",
    "    print(\"UPLOAD ANOTHER\")\n",
    "elif(w==h):\n",
    "    print(\"Accepted\")\n",
    "else:\n",
    "    print(\"Crop It\")"
   ]
  },
  {
   "cell_type": "markdown",
   "metadata": {},
   "source": [
    "### Iterations(Loops):\n",
    "- Repeat the sequence of instruction until the specific condition is satisfies.\n",
    "    - For loop\n",
    "    - While loop"
   ]
  },
  {
   "cell_type": "code",
   "execution_count": null,
   "metadata": {},
   "outputs": [],
   "source": [
    "##### for loop\n",
    "- for loop is used in the case of where we need to execute some part of code\n",
    "- Range known\n",
    "- Syntax:\n",
    "for iterating_var in iterable:\n",
    "    statement\n",
    "for variable in range(start,end,step):\n",
    "    statements\n",
    "#for(inilization,condition,incre/decre)  --->c"
   ]
  },
  {
   "cell_type": "code",
   "execution_count": 6,
   "metadata": {},
   "outputs": [
    {
     "name": "stdout",
     "output_type": "stream",
     "text": [
      "1 2 3 4 5 6 7 8 9 10 "
     ]
    }
   ],
   "source": [
    "for i in range(1,10+1):    #exclude(num-1)\n",
    "    print(i,end=\" \")"
   ]
  },
  {
   "cell_type": "code",
   "execution_count": 7,
   "metadata": {},
   "outputs": [
    {
     "name": "stdout",
     "output_type": "stream",
     "text": [
      "0 1 2 3 4 5 6 7 8 9 10 "
     ]
    }
   ],
   "source": [
    "for i in range(10+1):\n",
    "    print(i,end=\" \")"
   ]
  },
  {
   "cell_type": "code",
   "execution_count": 9,
   "metadata": {},
   "outputs": [
    {
     "name": "stdout",
     "output_type": "stream",
     "text": [
      "1 3 5 7 9 11 13 15 17 19 21 23 25 27 29 31 33 35 37 39 41 43 45 47 49 51 53 55 57 59 61 63 65 67 69 71 73 75 77 79 81 83 85 87 89 91 93 95 97 99 "
     ]
    }
   ],
   "source": [
    "for i in range(1,100+1,2):   #odd\n",
    "    print(i,end=\" \")"
   ]
  },
  {
   "cell_type": "code",
   "execution_count": 10,
   "metadata": {},
   "outputs": [],
   "source": [
    "for i in range(10,2):\n",
    "    print(i)"
   ]
  },
  {
   "cell_type": "code",
   "execution_count": 11,
   "metadata": {},
   "outputs": [
    {
     "name": "stdout",
     "output_type": "stream",
     "text": [
      "10 9 8 7 6 5 4 3 2 "
     ]
    }
   ],
   "source": [
    "for i in range(10,1,-1):\n",
    "    print(i,end=\" \")"
   ]
  },
  {
   "cell_type": "code",
   "execution_count": 12,
   "metadata": {},
   "outputs": [
    {
     "name": "stdout",
     "output_type": "stream",
     "text": [
      "10 8 6 4 2 "
     ]
    }
   ],
   "source": [
    "for i in range(10,1,-2):  #even\n",
    "    print(i,end=\" \")"
   ]
  },
  {
   "cell_type": "code",
   "execution_count": 13,
   "metadata": {},
   "outputs": [
    {
     "name": "stdout",
     "output_type": "stream",
     "text": [
      "2 4 6 8 10 12 14 16 18 20 22 24 26 28 30 32 34 36 38 40 42 44 46 48 50 52 54 56 58 60 62 64 66 68 70 72 74 76 78 80 82 84 86 88 90 92 94 96 98 100 "
     ]
    }
   ],
   "source": [
    "#even numbers 1 to 100-->2,4,6,8,10.....\n",
    "for i in range(2,100+1,2):\n",
    "    print(i,end=\" \")"
   ]
  },
  {
   "cell_type": "code",
   "execution_count": 16,
   "metadata": {},
   "outputs": [
    {
     "name": "stdout",
     "output_type": "stream",
     "text": [
      "2 4 6 8 10 12 14 16 18 20 22 24 26 28 30 32 34 36 38 40 42 44 46 48 50 52 54 56 58 60 62 64 66 68 70 72 74 76 78 80 82 84 86 88 90 92 94 96 98 100 \n",
      "Total even numbers are: 50\n"
     ]
    }
   ],
   "source": [
    "#even nums\n",
    "count=0\n",
    "for evennum in range(2,100+1,2):\n",
    "    count=count+1  #3\n",
    "    print(evennum,end=\" \")  #2 4 6\n",
    "print(\"\\nTotal even numbers are:\",count)"
   ]
  },
  {
   "cell_type": "code",
   "execution_count": 18,
   "metadata": {},
   "outputs": [
    {
     "name": "stdout",
     "output_type": "stream",
     "text": [
      "1997\n",
      "2021\n",
      "2000 2004 2008 2012 2016 2020 \n",
      "Total leapyears are: 6\n"
     ]
    }
   ],
   "source": [
    "#Task\n",
    "#Generate the all leapyears count in range of 2000 to 2020\n",
    "st=int(input())\n",
    "en=int(input())\n",
    "c=0\n",
    "for year in range(st,en+1):\n",
    "    if(year%400==0 or (year%4==0 and year%100!=0)):\n",
    "        c+=1\n",
    "        print(year,end=\" \")\n",
    "print(\"\\nTotal leapyears are:\",c)"
   ]
  },
  {
   "cell_type": "code",
   "execution_count": 22,
   "metadata": {},
   "outputs": [
    {
     "name": "stdout",
     "output_type": "stream",
     "text": [
      "h e l l o w o r l d "
     ]
    }
   ],
   "source": [
    "for letter in 'helloworld':\n",
    "    print(letter,end=\" \")"
   ]
  },
  {
   "cell_type": "code",
   "execution_count": 23,
   "metadata": {},
   "outputs": [
    {
     "name": "stdout",
     "output_type": "stream",
     "text": [
      "1 2 3 4 5 6 7 "
     ]
    }
   ],
   "source": [
    "for le in 1,2,3,4,5,6,7:\n",
    "    print(le,end=\" \")"
   ]
  },
  {
   "cell_type": "code",
   "execution_count": 24,
   "metadata": {},
   "outputs": [
    {
     "name": "stdout",
     "output_type": "stream",
     "text": [
      "5\n",
      "5 * 1 = 5\n",
      "5 * 2 = 10\n",
      "5 * 3 = 15\n",
      "5 * 4 = 20\n",
      "5 * 5 = 25\n",
      "5 * 6 = 30\n",
      "5 * 7 = 35\n",
      "5 * 8 = 40\n",
      "5 * 9 = 45\n",
      "5 * 10 = 50\n"
     ]
    }
   ],
   "source": [
    "\"\"\"Table-->i/p:5\n",
    "o/p:5*1=5\n",
    "     5*2=10\n",
    "     .\n",
    "     .\n",
    "     .\n",
    "     5*10=50\"\"\"\n",
    "n=int(input())\n",
    "for i in range(1,10+1):\n",
    "    print(n,\"*\",i,\"=\",n*i)"
   ]
  },
  {
   "cell_type": "code",
   "execution_count": 35,
   "metadata": {},
   "outputs": [
    {
     "name": "stdout",
     "output_type": "stream",
     "text": [
      "python\n",
      "674\n"
     ]
    }
   ],
   "source": [
    "#i/p:aba    97+98+97\n",
    "#o/p:292\n",
    "c=input()     #aba\n",
    "s=0\n",
    "for i in c:       #a     b           a\n",
    "    s=s+ord(i)    #97    97+98=195   195+97=292\n",
    "print(s)"
   ]
  },
  {
   "cell_type": "code",
   "execution_count": 33,
   "metadata": {},
   "outputs": [
    {
     "name": "stdout",
     "output_type": "stream",
     "text": [
      "97\n",
      "b\n"
     ]
    }
   ],
   "source": [
    "print(ord('a'))\n",
    "print(chr(98))"
   ]
  },
  {
   "cell_type": "code",
   "execution_count": 36,
   "metadata": {},
   "outputs": [
    {
     "name": "stdout",
     "output_type": "stream",
     "text": [
      "10\n",
      "1 2 5 10 "
     ]
    }
   ],
   "source": [
    "#Factors-->10-1,2,5,10\n",
    "n=int(input())      #10\n",
    "for i in range(1,n+1):  #i=1    i=2   i=3    i=5    i=10\n",
    "    if(n%i==0):      #10%1==0(t)    10%2==0(t)    10%5==0(t)   10%10==0\n",
    "        print(i,end=\" \")   #1 2 5  10"
   ]
  },
  {
   "cell_type": "code",
   "execution_count": 45,
   "metadata": {},
   "outputs": [
    {
     "name": "stdout",
     "output_type": "stream",
     "text": [
      "13\n",
      "13 is prime num\n"
     ]
    }
   ],
   "source": [
    "#prime number\n",
    "n=int(input())      #5\n",
    "c=0\n",
    "for i in range(1,n+1): #i=1   i=2         i=3         i=4       i=5\n",
    "    if(n%i==0):    #5%1==0(t)   5%2==0(f) 5%3==0(f)  5%4==0(f) 5%5==0(t)\n",
    "        c+=1   #c=1         2\n",
    "if(c==2):\n",
    "    print(n,\"is prime num\")\n",
    "else:\n",
    "    print(n,\"is not prime\")"
   ]
  },
  {
   "cell_type": "code",
   "execution_count": 46,
   "metadata": {},
   "outputs": [
    {
     "name": "stdout",
     "output_type": "stream",
     "text": [
      "6\n",
      "6 is perfect\n"
     ]
    }
   ],
   "source": [
    "#perfect num   6-->1+2+3=6\n",
    "n=int(input())\n",
    "fs=0\n",
    "for i in range(1,n):  #i=1   i=2       i=3  \n",
    "    if(n%i==0):     #6%1==0   6%2==0  6%3==0   \n",
    "        fs+=i   #0+1=1         1+2=3    3+3=6 \n",
    "if(fs==n):  \n",
    "    print(n,\"is perfect\")\n",
    "else:\n",
    "    print(n,'is not perfect')"
   ]
  },
  {
   "cell_type": "code",
   "execution_count": null,
   "metadata": {},
   "outputs": [],
   "source": [
    "\"\"\"i/p:starting:1\n",
    "       ending  :11\n",
    "o/p:Even nums are:2 4 6 8 10\n",
    "    odd nums are:1 3 5 7 9 \n",
    "\"\"\"\n"
   ]
  }
 ],
 "metadata": {
  "kernelspec": {
   "display_name": "Python 3",
   "language": "python",
   "name": "python3"
  },
  "language_info": {
   "codemirror_mode": {
    "name": "ipython",
    "version": 3
   },
   "file_extension": ".py",
   "mimetype": "text/x-python",
   "name": "python",
   "nbconvert_exporter": "python",
   "pygments_lexer": "ipython3",
   "version": "3.8.3"
  }
 },
 "nbformat": 4,
 "nbformat_minor": 4
}
