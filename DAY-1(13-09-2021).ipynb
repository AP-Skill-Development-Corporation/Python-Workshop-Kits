{
 "cells": [
  {
   "cell_type": "code",
   "execution_count": 4,
   "metadata": {},
   "outputs": [
    {
     "name": "stdout",
     "output_type": "stream",
     "text": [
      "Hello Students !!!\n",
      "102\n",
      "23.12\n",
      "uma 90.8 76\n"
     ]
    }
   ],
   "source": [
    "print(\"Hello Students !!!\") # printing a statement\n",
    "\n",
    "print(102) # printing an integer value\n",
    "\n",
    "print(23.12) # printing a floating value.\n",
    "\n",
    "\n",
    "# i want to pring three values at a time.\n",
    "\n",
    "print('uma',90.8,76)"
   ]
  },
  {
   "cell_type": "code",
   "execution_count": 5,
   "metadata": {},
   "outputs": [],
   "source": [
    "## Varibales : Variable is a memory location to store values(alphabets,numbers) or data.\n",
    "## Rules: 1). Variable name should starts with an alphabet.(a-z,A-Z)\n",
    "# 2). doesn't contains any special characters.(@,#,%,&,*,(,),!)\n",
    "# 3). Doesn't contains spaces.\n",
    "# 4). it may contain _.\n",
    "# 5). should not with the numbers but it may contain numbers.\n",
    "\n",
    "## Valid variable names: a,a_,Pqr,n2,_age etc..\n",
    "\n",
    "## Invalid Variable Names: 2d,@ge, k p, prime number etc.."
   ]
  },
  {
   "cell_type": "code",
   "execution_count": null,
   "metadata": {},
   "outputs": [],
   "source": [
    "# i want to store three values: 100,1000,3500\n",
    "\n",
    "n1 = 100\n",
    "n2 = 1000\n",
    "n3 = 3500\n",
    "\n",
    "a = 100\n",
    "b = 1000\n",
    "c = 3500\n",
    "\n",
    "print()"
   ]
  }
 ],
 "metadata": {
  "kernelspec": {
   "display_name": "Python 3",
   "language": "python",
   "name": "python3"
  },
  "language_info": {
   "codemirror_mode": {
    "name": "ipython",
    "version": 3
   },
   "file_extension": ".py",
   "mimetype": "text/x-python",
   "name": "python",
   "nbconvert_exporter": "python",
   "pygments_lexer": "ipython3",
   "version": "3.7.6"
  }
 },
 "nbformat": 4,
 "nbformat_minor": 4
}
